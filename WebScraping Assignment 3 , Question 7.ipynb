{
 "cells": [
  {
   "cell_type": "code",
   "execution_count": null,
   "metadata": {},
   "outputs": [],
   "source": [
    "import selenium\n",
    "from selenium import webdriver\n",
    "from selenium.webdriver.support.ui import WebDriverWait\n",
    "from selenium.webdriver.support import expected_conditions as EC\n",
    "from selenium.webdriver.common.by import By"
   ]
  },
  {
   "cell_type": "code",
   "execution_count": null,
   "metadata": {},
   "outputs": [],
   "source": [
    "driver=webdriver.Chrome(r\"C:\\Users\\Rubia Banu\\Desktop\\chromedriver.exe\")"
   ]
  },
  {
   "cell_type": "code",
   "execution_count": null,
   "metadata": {},
   "outputs": [],
   "source": [
    "driver.get(\"https://www.digit.in/\")"
   ]
  },
  {
   "cell_type": "code",
   "execution_count": null,
   "metadata": {},
   "outputs": [],
   "source": [
    "frt=driver.find_element_by_xpath(\"//input[@id='globalPageSearchText']\")\n",
    "frt.send_keys(\"Top 10 Gaming laptops\")"
   ]
  },
  {
   "cell_type": "code",
   "execution_count": 106,
   "metadata": {},
   "outputs": [],
   "source": [
    "laptop_top10=[]\n",
    "image_url=[]"
   ]
  },
  {
   "cell_type": "code",
   "execution_count": 107,
   "metadata": {},
   "outputs": [
    {
     "data": {
      "text/plain": [
       "[<selenium.webdriver.remote.webelement.WebElement (session=\"ccc9a8dd388d88fc1a970dc2c3a0d0f1\", element=\"2221aebb-d4e2-4b41-b945-67f8731e93a8\")>,\n",
       " <selenium.webdriver.remote.webelement.WebElement (session=\"ccc9a8dd388d88fc1a970dc2c3a0d0f1\", element=\"eeed26f1-e6aa-4e8c-bd20-c0e64e40939c\")>,\n",
       " <selenium.webdriver.remote.webelement.WebElement (session=\"ccc9a8dd388d88fc1a970dc2c3a0d0f1\", element=\"c4630589-bc7d-4159-bd9d-282d2cbe50cf\")>,\n",
       " <selenium.webdriver.remote.webelement.WebElement (session=\"ccc9a8dd388d88fc1a970dc2c3a0d0f1\", element=\"dc2ec42f-9f3a-4d55-b0bb-ac11b0b16e9c\")>,\n",
       " <selenium.webdriver.remote.webelement.WebElement (session=\"ccc9a8dd388d88fc1a970dc2c3a0d0f1\", element=\"bc97954f-f16e-44bb-8a21-d56f1ab49e6f\")>,\n",
       " <selenium.webdriver.remote.webelement.WebElement (session=\"ccc9a8dd388d88fc1a970dc2c3a0d0f1\", element=\"84d7a151-5750-4cf3-8607-5e927adb2231\")>,\n",
       " <selenium.webdriver.remote.webelement.WebElement (session=\"ccc9a8dd388d88fc1a970dc2c3a0d0f1\", element=\"3a2d8723-08eb-4121-bee9-15c75d551ad4\")>,\n",
       " <selenium.webdriver.remote.webelement.WebElement (session=\"ccc9a8dd388d88fc1a970dc2c3a0d0f1\", element=\"297d354f-5d67-4834-88d8-bf2ad9f2e22d\")>,\n",
       " <selenium.webdriver.remote.webelement.WebElement (session=\"ccc9a8dd388d88fc1a970dc2c3a0d0f1\", element=\"d9689d8f-94da-43f0-9245-65f6b32110a0\")>,\n",
       " <selenium.webdriver.remote.webelement.WebElement (session=\"ccc9a8dd388d88fc1a970dc2c3a0d0f1\", element=\"5956eb1a-981d-4aa8-806d-cd17c72989a7\")>]"
      ]
     },
     "execution_count": 107,
     "metadata": {},
     "output_type": "execute_result"
    }
   ],
   "source": [
    "brand_lap=driver.find_elements_by_xpath(\"//div[@class='searchProduct-desc']\")\n",
    "brand_lap[0:10]"
   ]
  },
  {
   "cell_type": "code",
   "execution_count": 108,
   "metadata": {},
   "outputs": [
    {
     "data": {
      "text/plain": [
       "['HP Envy 15-k006tx',\n",
       " \"ASUS G53J - A 3D gamer's delight but we want more\",\n",
       " 'Asus G750JX-CV069P',\n",
       " 'Lenovo IdeaPad Y570',\n",
       " 'ASUS ROG Cetra',\n",
       " 'HP Pavilion g6 - Multimedia and gaming on a budget',\n",
       " 'Top gaming laptops to target',\n",
       " 'Top high-end gaming laptops',\n",
       " 'Top gaming laptops under Rs 1 lakh',\n",
       " 'Best Gaming Laptops in India']"
      ]
     },
     "execution_count": 108,
     "metadata": {},
     "output_type": "execute_result"
    }
   ],
   "source": [
    "for i in brand_lap:\n",
    "    title=i.text\n",
    "    laptop_top10.append(title)\n",
    "laptop_top10[0:10]"
   ]
  },
  {
   "cell_type": "code",
   "execution_count": 110,
   "metadata": {
    "scrolled": true
   },
   "outputs": [],
   "source": [
    "img_url=driver.find_elements_by_xpath(\"//div[@class='searchProduct-ickon']/img\")  "
   ]
  },
  {
   "cell_type": "code",
   "execution_count": 111,
   "metadata": {},
   "outputs": [
    {
     "data": {
      "text/plain": [
       "[<selenium.webdriver.remote.webelement.WebElement (session=\"ccc9a8dd388d88fc1a970dc2c3a0d0f1\", element=\"c7307290-cff3-4475-bce2-10c10321d727\")>,\n",
       " <selenium.webdriver.remote.webelement.WebElement (session=\"ccc9a8dd388d88fc1a970dc2c3a0d0f1\", element=\"4cb0b11c-8015-4a22-b0ed-292233083062\")>,\n",
       " <selenium.webdriver.remote.webelement.WebElement (session=\"ccc9a8dd388d88fc1a970dc2c3a0d0f1\", element=\"7a76afe3-a949-4bd4-ab7b-37a25aa11bfd\")>,\n",
       " <selenium.webdriver.remote.webelement.WebElement (session=\"ccc9a8dd388d88fc1a970dc2c3a0d0f1\", element=\"57bcd43c-cc3e-4129-8fe0-df33562eb773\")>,\n",
       " <selenium.webdriver.remote.webelement.WebElement (session=\"ccc9a8dd388d88fc1a970dc2c3a0d0f1\", element=\"43662129-71c4-4905-9594-7cf3f04b4dbf\")>,\n",
       " <selenium.webdriver.remote.webelement.WebElement (session=\"ccc9a8dd388d88fc1a970dc2c3a0d0f1\", element=\"5e7bb974-9c31-4696-bc64-87bd185bdaac\")>,\n",
       " <selenium.webdriver.remote.webelement.WebElement (session=\"ccc9a8dd388d88fc1a970dc2c3a0d0f1\", element=\"9eb3c98e-a7c0-4a15-a6cd-7e1eb4112025\")>,\n",
       " <selenium.webdriver.remote.webelement.WebElement (session=\"ccc9a8dd388d88fc1a970dc2c3a0d0f1\", element=\"126c24be-6b86-49ea-b443-f496f195cf17\")>,\n",
       " <selenium.webdriver.remote.webelement.WebElement (session=\"ccc9a8dd388d88fc1a970dc2c3a0d0f1\", element=\"3ca875d7-6624-400d-a9b8-0e0a8457ab64\")>,\n",
       " <selenium.webdriver.remote.webelement.WebElement (session=\"ccc9a8dd388d88fc1a970dc2c3a0d0f1\", element=\"73aadbff-6221-46e8-a299-4c271d2e83ff\")>]"
      ]
     },
     "execution_count": 111,
     "metadata": {},
     "output_type": "execute_result"
    }
   ],
   "source": [
    "img_url"
   ]
  },
  {
   "cell_type": "code",
   "execution_count": 112,
   "metadata": {},
   "outputs": [
    {
     "data": {
      "text/plain": [
       "['https://static.digit.in/product/thumb_27861_product_td_300.jpeg',\n",
       " 'https://static.digit.in/default/thumb_22670_default_td_300.jpg',\n",
       " 'https://static.digit.in/product/thumb_27856_product_td_300.jpeg',\n",
       " 'https://static.digit.in/default/thumb_22184_default_td_300.jpg',\n",
       " 'https://static.digit.in/product/thumb_170594_product_td_300.jpeg',\n",
       " 'https://static.digit.in/default/thumb_22293_default_td_300.jpg',\n",
       " 'https://static.digit.in/default/thumb_171457_default_td_300.jpeg',\n",
       " 'https://static.digit.in/default/thumb_178827_default_td_300.jpeg',\n",
       " 'https://static.digit.in/default/thumb_87094_default_td_300.jpeg',\n",
       " 'https://static.digit.in/default/thumb_164819_default_td_300.jpeg']"
      ]
     },
     "execution_count": 112,
     "metadata": {},
     "output_type": "execute_result"
    }
   ],
   "source": [
    "for i in img_url:\n",
    "    image=i.get_attribute('src')\n",
    "    image_url.append(image)\n",
    "image_url[0:10]"
   ]
  },
  {
   "cell_type": "code",
   "execution_count": 114,
   "metadata": {},
   "outputs": [],
   "source": [
    "import pandas as pd\n",
    "top_laptop=pd.DataFrame({})\n",
    "top_laptop['Brand Name']=laptop_top10\n",
    "top_laptop['Image Url']=image_url"
   ]
  },
  {
   "cell_type": "code",
   "execution_count": 115,
   "metadata": {},
   "outputs": [
    {
     "data": {
      "text/html": [
       "<div>\n",
       "<style scoped>\n",
       "    .dataframe tbody tr th:only-of-type {\n",
       "        vertical-align: middle;\n",
       "    }\n",
       "\n",
       "    .dataframe tbody tr th {\n",
       "        vertical-align: top;\n",
       "    }\n",
       "\n",
       "    .dataframe thead th {\n",
       "        text-align: right;\n",
       "    }\n",
       "</style>\n",
       "<table border=\"1\" class=\"dataframe\">\n",
       "  <thead>\n",
       "    <tr style=\"text-align: right;\">\n",
       "      <th></th>\n",
       "      <th>Brand Name</th>\n",
       "      <th>Image Url</th>\n",
       "    </tr>\n",
       "  </thead>\n",
       "  <tbody>\n",
       "    <tr>\n",
       "      <th>0</th>\n",
       "      <td>HP Envy 15-k006tx</td>\n",
       "      <td>https://static.digit.in/product/thumb_27861_pr...</td>\n",
       "    </tr>\n",
       "    <tr>\n",
       "      <th>1</th>\n",
       "      <td>ASUS G53J - A 3D gamer's delight but we want more</td>\n",
       "      <td>https://static.digit.in/default/thumb_22670_de...</td>\n",
       "    </tr>\n",
       "    <tr>\n",
       "      <th>2</th>\n",
       "      <td>Asus G750JX-CV069P</td>\n",
       "      <td>https://static.digit.in/product/thumb_27856_pr...</td>\n",
       "    </tr>\n",
       "    <tr>\n",
       "      <th>3</th>\n",
       "      <td>Lenovo IdeaPad Y570</td>\n",
       "      <td>https://static.digit.in/default/thumb_22184_de...</td>\n",
       "    </tr>\n",
       "    <tr>\n",
       "      <th>4</th>\n",
       "      <td>ASUS ROG Cetra</td>\n",
       "      <td>https://static.digit.in/product/thumb_170594_p...</td>\n",
       "    </tr>\n",
       "    <tr>\n",
       "      <th>5</th>\n",
       "      <td>HP Pavilion g6 - Multimedia and gaming on a bu...</td>\n",
       "      <td>https://static.digit.in/default/thumb_22293_de...</td>\n",
       "    </tr>\n",
       "    <tr>\n",
       "      <th>6</th>\n",
       "      <td>Top gaming laptops to target</td>\n",
       "      <td>https://static.digit.in/default/thumb_171457_d...</td>\n",
       "    </tr>\n",
       "    <tr>\n",
       "      <th>7</th>\n",
       "      <td>Top high-end gaming laptops</td>\n",
       "      <td>https://static.digit.in/default/thumb_178827_d...</td>\n",
       "    </tr>\n",
       "    <tr>\n",
       "      <th>8</th>\n",
       "      <td>Top gaming laptops under Rs 1 lakh</td>\n",
       "      <td>https://static.digit.in/default/thumb_87094_de...</td>\n",
       "    </tr>\n",
       "    <tr>\n",
       "      <th>9</th>\n",
       "      <td>Best Gaming Laptops in India</td>\n",
       "      <td>https://static.digit.in/default/thumb_164819_d...</td>\n",
       "    </tr>\n",
       "  </tbody>\n",
       "</table>\n",
       "</div>"
      ],
      "text/plain": [
       "                                          Brand Name  \\\n",
       "0                                  HP Envy 15-k006tx   \n",
       "1  ASUS G53J - A 3D gamer's delight but we want more   \n",
       "2                                 Asus G750JX-CV069P   \n",
       "3                                Lenovo IdeaPad Y570   \n",
       "4                                     ASUS ROG Cetra   \n",
       "5  HP Pavilion g6 - Multimedia and gaming on a bu...   \n",
       "6                       Top gaming laptops to target   \n",
       "7                        Top high-end gaming laptops   \n",
       "8                 Top gaming laptops under Rs 1 lakh   \n",
       "9                       Best Gaming Laptops in India   \n",
       "\n",
       "                                           Image Url  \n",
       "0  https://static.digit.in/product/thumb_27861_pr...  \n",
       "1  https://static.digit.in/default/thumb_22670_de...  \n",
       "2  https://static.digit.in/product/thumb_27856_pr...  \n",
       "3  https://static.digit.in/default/thumb_22184_de...  \n",
       "4  https://static.digit.in/product/thumb_170594_p...  \n",
       "5  https://static.digit.in/default/thumb_22293_de...  \n",
       "6  https://static.digit.in/default/thumb_171457_d...  \n",
       "7  https://static.digit.in/default/thumb_178827_d...  \n",
       "8  https://static.digit.in/default/thumb_87094_de...  \n",
       "9  https://static.digit.in/default/thumb_164819_d...  "
      ]
     },
     "execution_count": 115,
     "metadata": {},
     "output_type": "execute_result"
    }
   ],
   "source": [
    "top_laptop"
   ]
  },
  {
   "cell_type": "code",
   "execution_count": null,
   "metadata": {},
   "outputs": [],
   "source": []
  }
 ],
 "metadata": {
  "kernelspec": {
   "display_name": "Python 3",
   "language": "python",
   "name": "python3"
  },
  "language_info": {
   "codemirror_mode": {
    "name": "ipython",
    "version": 3
   },
   "file_extension": ".py",
   "mimetype": "text/x-python",
   "name": "python",
   "nbconvert_exporter": "python",
   "pygments_lexer": "ipython3",
   "version": "3.7.6"
  }
 },
 "nbformat": 4,
 "nbformat_minor": 4
}
