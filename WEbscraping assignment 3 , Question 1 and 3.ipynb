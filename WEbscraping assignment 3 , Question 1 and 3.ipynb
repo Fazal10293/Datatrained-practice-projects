{
 "cells": [
  {
   "cell_type": "code",
   "execution_count": 40,
   "metadata": {},
   "outputs": [],
   "source": [
    "import selenium\n",
    "from selenium import webdriver"
   ]
  },
  {
   "cell_type": "code",
   "execution_count": 41,
   "metadata": {},
   "outputs": [],
   "source": [
    "#Q1, amazon.in, search for guitar"
   ]
  },
  {
   "cell_type": "code",
   "execution_count": 42,
   "metadata": {},
   "outputs": [],
   "source": [
    "driver=webdriver.Chrome(r\"C:\\Users\\Rubia Banu\\Desktop\\chromedriver.exe\")"
   ]
  },
  {
   "cell_type": "code",
   "execution_count": 43,
   "metadata": {},
   "outputs": [],
   "source": [
    "driver.get(\"https://www.amazon.in\")"
   ]
  },
  {
   "cell_type": "code",
   "execution_count": 44,
   "metadata": {},
   "outputs": [],
   "source": [
    "item=driver.find_element_by_id('twotabsearchtextbox')\n",
    "item.send_keys(\"guitar\")\n"
   ]
  },
  {
   "cell_type": "code",
   "execution_count": 45,
   "metadata": {},
   "outputs": [],
   "source": [
    "search_btn=driver.find_element_by_id(\"nav-search-submit-button\")\n",
    "search_btn.click()"
   ]
  },
  {
   "cell_type": "code",
   "execution_count": 46,
   "metadata": {},
   "outputs": [],
   "source": [
    "#i have retrived all the guitars from the amazon page."
   ]
  },
  {
   "cell_type": "code",
   "execution_count": 47,
   "metadata": {},
   "outputs": [],
   "source": [
    "# Q3 starts here"
   ]
  },
  {
   "cell_type": "code",
   "execution_count": 35,
   "metadata": {},
   "outputs": [],
   "source": [
    "import selenium\n",
    "from selenium import webdriver\n",
    "from selenium.webdriver.support.ui import WebDriverWait\n",
    "from selenium.webdriver.support import expected_conditions as EC\n",
    "from selenium.webdriver.common.by import By"
   ]
  },
  {
   "cell_type": "code",
   "execution_count": 36,
   "metadata": {},
   "outputs": [],
   "source": [
    "driver=webdriver.Chrome(r\"C:\\Users\\Rubia Banu\\Desktop\\chromedriver.exe\")"
   ]
  },
  {
   "cell_type": "code",
   "execution_count": 37,
   "metadata": {},
   "outputs": [],
   "source": [
    "driver.get(\"https://images.google.com/\")"
   ]
  },
  {
   "cell_type": "code",
   "execution_count": 27,
   "metadata": {},
   "outputs": [],
   "source": [
    "fruits_list=[]\n",
    "cars_list=[]\n",
    "machine_learning=[]"
   ]
  },
  {
   "cell_type": "code",
   "execution_count": 28,
   "metadata": {},
   "outputs": [],
   "source": [
    "for j in driver.find_elements_by_xpath(\"//input[@class='gLFyf gsfi']\"):\n",
    "    j.send_keys(\"fruits\")\n",
    "sr=driver.find_element_by_xpath(\"//button[@class='Tg7LZd']\")\n",
    "sr.click()\n",
    "\n",
    "\n",
    "\n"
   ]
  },
  {
   "cell_type": "code",
   "execution_count": 29,
   "metadata": {},
   "outputs": [
    {
     "data": {
      "text/plain": [
       "[<selenium.webdriver.remote.webelement.WebElement (session=\"faf014df6dc70051f9df2d69bbbafe48\", element=\"589870a5-cb32-4ef5-af7d-ec2f667f7539\")>,\n",
       " <selenium.webdriver.remote.webelement.WebElement (session=\"faf014df6dc70051f9df2d69bbbafe48\", element=\"06ab25a4-1073-4573-b4a8-689ea08f1bd2\")>,\n",
       " <selenium.webdriver.remote.webelement.WebElement (session=\"faf014df6dc70051f9df2d69bbbafe48\", element=\"49595c44-3574-493a-b362-75aca00e8df3\")>,\n",
       " <selenium.webdriver.remote.webelement.WebElement (session=\"faf014df6dc70051f9df2d69bbbafe48\", element=\"2fe778ea-ec8c-4c27-bd5b-7245937c7600\")>,\n",
       " <selenium.webdriver.remote.webelement.WebElement (session=\"faf014df6dc70051f9df2d69bbbafe48\", element=\"c411d6ad-88ba-46a6-ad7a-2b5c81ef504d\")>,\n",
       " <selenium.webdriver.remote.webelement.WebElement (session=\"faf014df6dc70051f9df2d69bbbafe48\", element=\"9f1a7d84-a3a9-4cfa-bd25-1fa872cc38df\")>,\n",
       " <selenium.webdriver.remote.webelement.WebElement (session=\"faf014df6dc70051f9df2d69bbbafe48\", element=\"46d03b1a-1c42-4335-b55a-78a7deb0b22a\")>,\n",
       " <selenium.webdriver.remote.webelement.WebElement (session=\"faf014df6dc70051f9df2d69bbbafe48\", element=\"44313c48-0d59-4008-a9d2-e4fd1aac3a6f\")>,\n",
       " <selenium.webdriver.remote.webelement.WebElement (session=\"faf014df6dc70051f9df2d69bbbafe48\", element=\"8c458474-1fc0-436e-a496-0a7bb72c0899\")>,\n",
       " <selenium.webdriver.remote.webelement.WebElement (session=\"faf014df6dc70051f9df2d69bbbafe48\", element=\"5ef76694-acf5-4542-a711-2507e3e5aae8\")>,\n",
       " <selenium.webdriver.remote.webelement.WebElement (session=\"faf014df6dc70051f9df2d69bbbafe48\", element=\"a41908a8-7dae-411b-a6b7-333a274a0d08\")>,\n",
       " <selenium.webdriver.remote.webelement.WebElement (session=\"faf014df6dc70051f9df2d69bbbafe48\", element=\"a6ce80f4-2903-490d-83dd-6920ab9a3867\")>,\n",
       " <selenium.webdriver.remote.webelement.WebElement (session=\"faf014df6dc70051f9df2d69bbbafe48\", element=\"25dd1904-37f4-439b-af8c-19ed27e27d5d\")>,\n",
       " <selenium.webdriver.remote.webelement.WebElement (session=\"faf014df6dc70051f9df2d69bbbafe48\", element=\"85dbcc30-2c84-4cbc-b531-610df431236b\")>,\n",
       " <selenium.webdriver.remote.webelement.WebElement (session=\"faf014df6dc70051f9df2d69bbbafe48\", element=\"9cf04a45-eeea-45a8-a820-a5eb5ce68332\")>,\n",
       " <selenium.webdriver.remote.webelement.WebElement (session=\"faf014df6dc70051f9df2d69bbbafe48\", element=\"2c336235-9c74-4aad-b561-ef54a6737d1a\")>,\n",
       " <selenium.webdriver.remote.webelement.WebElement (session=\"faf014df6dc70051f9df2d69bbbafe48\", element=\"f505dd9e-8aa4-49e8-8105-f271f491ae99\")>,\n",
       " <selenium.webdriver.remote.webelement.WebElement (session=\"faf014df6dc70051f9df2d69bbbafe48\", element=\"e6f78df4-4b0c-4e19-9391-b89fa5f71daa\")>,\n",
       " <selenium.webdriver.remote.webelement.WebElement (session=\"faf014df6dc70051f9df2d69bbbafe48\", element=\"f83b059e-85ee-4ccf-9750-c5d42988ecf0\")>,\n",
       " <selenium.webdriver.remote.webelement.WebElement (session=\"faf014df6dc70051f9df2d69bbbafe48\", element=\"0883bbed-aa38-4985-82be-d79415384508\")>,\n",
       " <selenium.webdriver.remote.webelement.WebElement (session=\"faf014df6dc70051f9df2d69bbbafe48\", element=\"6de588cc-700d-4558-accf-51758a47e26f\")>,\n",
       " <selenium.webdriver.remote.webelement.WebElement (session=\"faf014df6dc70051f9df2d69bbbafe48\", element=\"394c26c9-cdc1-4c3d-9dd7-bb631abed81d\")>,\n",
       " <selenium.webdriver.remote.webelement.WebElement (session=\"faf014df6dc70051f9df2d69bbbafe48\", element=\"c8052abd-c83e-4f91-84b2-06f3ccd5161e\")>,\n",
       " <selenium.webdriver.remote.webelement.WebElement (session=\"faf014df6dc70051f9df2d69bbbafe48\", element=\"64d60a5a-dc90-4cb5-ab1a-3194a7485db6\")>,\n",
       " <selenium.webdriver.remote.webelement.WebElement (session=\"faf014df6dc70051f9df2d69bbbafe48\", element=\"22668015-814f-4909-9f19-98234367539a\")>,\n",
       " <selenium.webdriver.remote.webelement.WebElement (session=\"faf014df6dc70051f9df2d69bbbafe48\", element=\"b22f80af-4a95-4886-9378-ba2e0e8a1936\")>,\n",
       " <selenium.webdriver.remote.webelement.WebElement (session=\"faf014df6dc70051f9df2d69bbbafe48\", element=\"6c102c95-c839-4435-b82f-465ad01d2091\")>,\n",
       " <selenium.webdriver.remote.webelement.WebElement (session=\"faf014df6dc70051f9df2d69bbbafe48\", element=\"3c7726ac-eefa-4f6c-b119-6c6457f90074\")>,\n",
       " <selenium.webdriver.remote.webelement.WebElement (session=\"faf014df6dc70051f9df2d69bbbafe48\", element=\"e7a7d77d-79a8-43eb-9217-6ba0ea282b55\")>,\n",
       " <selenium.webdriver.remote.webelement.WebElement (session=\"faf014df6dc70051f9df2d69bbbafe48\", element=\"ab8c70e5-108d-4275-b121-44b08ce0067d\")>,\n",
       " <selenium.webdriver.remote.webelement.WebElement (session=\"faf014df6dc70051f9df2d69bbbafe48\", element=\"c9d81e05-ae78-4d00-a911-c7d9e00a6865\")>,\n",
       " <selenium.webdriver.remote.webelement.WebElement (session=\"faf014df6dc70051f9df2d69bbbafe48\", element=\"c0d75c91-a453-4cec-95f6-891c9b9ab2ef\")>,\n",
       " <selenium.webdriver.remote.webelement.WebElement (session=\"faf014df6dc70051f9df2d69bbbafe48\", element=\"94058cb6-5696-46aa-a60c-106715a8134f\")>,\n",
       " <selenium.webdriver.remote.webelement.WebElement (session=\"faf014df6dc70051f9df2d69bbbafe48\", element=\"03536e7f-e4c1-429e-a58c-b9dc7ad920ae\")>,\n",
       " <selenium.webdriver.remote.webelement.WebElement (session=\"faf014df6dc70051f9df2d69bbbafe48\", element=\"ef2128f7-f397-4dda-9bbc-8f015a499941\")>,\n",
       " <selenium.webdriver.remote.webelement.WebElement (session=\"faf014df6dc70051f9df2d69bbbafe48\", element=\"268fd9d9-65f9-4557-9728-b3ecfab546f8\")>,\n",
       " <selenium.webdriver.remote.webelement.WebElement (session=\"faf014df6dc70051f9df2d69bbbafe48\", element=\"c9b6f099-1142-4b82-b6a0-ea73f7455e52\")>,\n",
       " <selenium.webdriver.remote.webelement.WebElement (session=\"faf014df6dc70051f9df2d69bbbafe48\", element=\"8cad320c-dad4-407f-b5d7-a93ebdf5b633\")>,\n",
       " <selenium.webdriver.remote.webelement.WebElement (session=\"faf014df6dc70051f9df2d69bbbafe48\", element=\"2da3ae0d-3586-48d8-b2c6-10695e6ed2ea\")>,\n",
       " <selenium.webdriver.remote.webelement.WebElement (session=\"faf014df6dc70051f9df2d69bbbafe48\", element=\"ec2583ad-8f43-4a73-8d45-6020f54461bb\")>,\n",
       " <selenium.webdriver.remote.webelement.WebElement (session=\"faf014df6dc70051f9df2d69bbbafe48\", element=\"bb21bedc-edcc-4503-a4e9-61ac0e560ba9\")>,\n",
       " <selenium.webdriver.remote.webelement.WebElement (session=\"faf014df6dc70051f9df2d69bbbafe48\", element=\"b06fa9d8-cd47-42bc-a0c4-7aa6b4017917\")>,\n",
       " <selenium.webdriver.remote.webelement.WebElement (session=\"faf014df6dc70051f9df2d69bbbafe48\", element=\"e257ced6-796c-48f5-9160-988854d97f36\")>,\n",
       " <selenium.webdriver.remote.webelement.WebElement (session=\"faf014df6dc70051f9df2d69bbbafe48\", element=\"b7dde910-dd84-413f-9d00-707eb371c5b7\")>,\n",
       " <selenium.webdriver.remote.webelement.WebElement (session=\"faf014df6dc70051f9df2d69bbbafe48\", element=\"8eb38ed5-7121-49c5-829f-3a001e132178\")>,\n",
       " <selenium.webdriver.remote.webelement.WebElement (session=\"faf014df6dc70051f9df2d69bbbafe48\", element=\"f068b26b-1aeb-4c90-ade3-bff233bc93c0\")>,\n",
       " <selenium.webdriver.remote.webelement.WebElement (session=\"faf014df6dc70051f9df2d69bbbafe48\", element=\"644c85f8-50e3-42cb-bb28-9d8ac0c27f5f\")>,\n",
       " <selenium.webdriver.remote.webelement.WebElement (session=\"faf014df6dc70051f9df2d69bbbafe48\", element=\"fa9c5b47-0517-4215-ac1c-519ce880befd\")>,\n",
       " <selenium.webdriver.remote.webelement.WebElement (session=\"faf014df6dc70051f9df2d69bbbafe48\", element=\"e67cbb3d-725d-4509-bc03-0571c7273617\")>]"
      ]
     },
     "execution_count": 29,
     "metadata": {},
     "output_type": "execute_result"
    }
   ],
   "source": [
    "frt_images=driver.find_elements_by_xpath(\"//div[@jsaction='IE7JUb:e5gl8b;dtRDof:s370ud;R3mad:ZCNXMe;v03O1c:cJhY7b;']\")\n",
    "frt_images[0:99]\n"
   ]
  },
  {
   "cell_type": "code",
   "execution_count": 33,
   "metadata": {},
   "outputs": [],
   "source": [
    "for j in driver.find_elements_by_xpath(\"//input[@class='gLFyf gsfi']\"):\n",
    "    j.send_keys(\"Cars\")\n",
    "sr=driver.find_element_by_xpath(\"//button[@class='Tg7LZd']\")\n",
    "sr.click()\n"
   ]
  },
  {
   "cell_type": "code",
   "execution_count": 34,
   "metadata": {},
   "outputs": [
    {
     "data": {
      "text/plain": [
       "[<selenium.webdriver.remote.webelement.WebElement (session=\"b4922921c5e136920965e20e7a583a92\", element=\"8b987f4c-6e0f-4b8c-962e-cec16ae53e24\")>,\n",
       " <selenium.webdriver.remote.webelement.WebElement (session=\"b4922921c5e136920965e20e7a583a92\", element=\"cf43e6c2-90ea-4128-ad0b-67eb0d704c24\")>,\n",
       " <selenium.webdriver.remote.webelement.WebElement (session=\"b4922921c5e136920965e20e7a583a92\", element=\"bfcc7435-1a6d-4818-abe3-2e73f19fe9e7\")>,\n",
       " <selenium.webdriver.remote.webelement.WebElement (session=\"b4922921c5e136920965e20e7a583a92\", element=\"fffa8809-49fd-4322-a2bd-879c1a700a5a\")>,\n",
       " <selenium.webdriver.remote.webelement.WebElement (session=\"b4922921c5e136920965e20e7a583a92\", element=\"aab944df-ccb2-482c-ba79-87e6cb55dcc5\")>,\n",
       " <selenium.webdriver.remote.webelement.WebElement (session=\"b4922921c5e136920965e20e7a583a92\", element=\"56421c1d-e704-404d-bfa0-01a5edaef270\")>,\n",
       " <selenium.webdriver.remote.webelement.WebElement (session=\"b4922921c5e136920965e20e7a583a92\", element=\"cf6267bf-6277-4bb1-ba99-58a9dc068583\")>,\n",
       " <selenium.webdriver.remote.webelement.WebElement (session=\"b4922921c5e136920965e20e7a583a92\", element=\"e38407df-1c2d-43ef-bcbb-f584b50c10f6\")>,\n",
       " <selenium.webdriver.remote.webelement.WebElement (session=\"b4922921c5e136920965e20e7a583a92\", element=\"d8a1ea2c-e90e-4a7f-b358-7acc72fa3b99\")>,\n",
       " <selenium.webdriver.remote.webelement.WebElement (session=\"b4922921c5e136920965e20e7a583a92\", element=\"07b677dc-2bb4-4b8c-b35b-5e3188c277fc\")>,\n",
       " <selenium.webdriver.remote.webelement.WebElement (session=\"b4922921c5e136920965e20e7a583a92\", element=\"0fd3ca44-5496-4c93-a841-9b46717557ae\")>,\n",
       " <selenium.webdriver.remote.webelement.WebElement (session=\"b4922921c5e136920965e20e7a583a92\", element=\"1f9e2f20-1487-4968-bcf1-31b73165c0d4\")>,\n",
       " <selenium.webdriver.remote.webelement.WebElement (session=\"b4922921c5e136920965e20e7a583a92\", element=\"b29997d2-1620-4a52-94cf-185cbd1e651a\")>,\n",
       " <selenium.webdriver.remote.webelement.WebElement (session=\"b4922921c5e136920965e20e7a583a92\", element=\"fa8a4659-21d6-4871-90ce-b2e3fb07046e\")>,\n",
       " <selenium.webdriver.remote.webelement.WebElement (session=\"b4922921c5e136920965e20e7a583a92\", element=\"25a5c11a-098a-4129-b635-ca4fa6f7267c\")>,\n",
       " <selenium.webdriver.remote.webelement.WebElement (session=\"b4922921c5e136920965e20e7a583a92\", element=\"e5e407e3-901a-4a71-988a-0eb71f6fb88e\")>,\n",
       " <selenium.webdriver.remote.webelement.WebElement (session=\"b4922921c5e136920965e20e7a583a92\", element=\"749e9c81-42df-4a1b-a013-372b82b86983\")>,\n",
       " <selenium.webdriver.remote.webelement.WebElement (session=\"b4922921c5e136920965e20e7a583a92\", element=\"9c2aaa94-a19d-436a-a2d8-326e4f47005a\")>,\n",
       " <selenium.webdriver.remote.webelement.WebElement (session=\"b4922921c5e136920965e20e7a583a92\", element=\"797fe613-77ba-4d47-8a1b-6b0160631754\")>,\n",
       " <selenium.webdriver.remote.webelement.WebElement (session=\"b4922921c5e136920965e20e7a583a92\", element=\"9fe178a9-4c4c-48b4-831b-d16fbabed862\")>,\n",
       " <selenium.webdriver.remote.webelement.WebElement (session=\"b4922921c5e136920965e20e7a583a92\", element=\"d63448f6-4775-42c1-bed8-0b7cc20a367d\")>,\n",
       " <selenium.webdriver.remote.webelement.WebElement (session=\"b4922921c5e136920965e20e7a583a92\", element=\"692575b9-e3e7-449a-b38e-439d9a17201c\")>,\n",
       " <selenium.webdriver.remote.webelement.WebElement (session=\"b4922921c5e136920965e20e7a583a92\", element=\"93720d8c-6613-458a-9de3-fc33e31f6bef\")>,\n",
       " <selenium.webdriver.remote.webelement.WebElement (session=\"b4922921c5e136920965e20e7a583a92\", element=\"767ea779-3c3f-4683-9003-aadb9aa7ba29\")>,\n",
       " <selenium.webdriver.remote.webelement.WebElement (session=\"b4922921c5e136920965e20e7a583a92\", element=\"35b84ea0-3db5-41ae-b5ac-16fdc5cacee2\")>,\n",
       " <selenium.webdriver.remote.webelement.WebElement (session=\"b4922921c5e136920965e20e7a583a92\", element=\"84f19c9a-d40c-45bf-bd32-2e8e0c7142b0\")>,\n",
       " <selenium.webdriver.remote.webelement.WebElement (session=\"b4922921c5e136920965e20e7a583a92\", element=\"07548799-d6d7-45d9-8f16-796d14727546\")>,\n",
       " <selenium.webdriver.remote.webelement.WebElement (session=\"b4922921c5e136920965e20e7a583a92\", element=\"24e2de05-4f9a-437c-8909-cdbf3a2bb094\")>,\n",
       " <selenium.webdriver.remote.webelement.WebElement (session=\"b4922921c5e136920965e20e7a583a92\", element=\"cdb982f7-40a2-4fd4-86ed-94c38776fb5d\")>,\n",
       " <selenium.webdriver.remote.webelement.WebElement (session=\"b4922921c5e136920965e20e7a583a92\", element=\"0de2f83d-ae36-4772-904c-9a22334dee0a\")>,\n",
       " <selenium.webdriver.remote.webelement.WebElement (session=\"b4922921c5e136920965e20e7a583a92\", element=\"2eac973c-dade-4026-8379-54f5628146f0\")>,\n",
       " <selenium.webdriver.remote.webelement.WebElement (session=\"b4922921c5e136920965e20e7a583a92\", element=\"60c9553e-df83-4c55-bf55-1335a9327312\")>,\n",
       " <selenium.webdriver.remote.webelement.WebElement (session=\"b4922921c5e136920965e20e7a583a92\", element=\"06ee0d43-0e73-4ed5-8aa9-225fa78bbb27\")>,\n",
       " <selenium.webdriver.remote.webelement.WebElement (session=\"b4922921c5e136920965e20e7a583a92\", element=\"35c2c102-e787-439c-a728-bfb3a0382af9\")>,\n",
       " <selenium.webdriver.remote.webelement.WebElement (session=\"b4922921c5e136920965e20e7a583a92\", element=\"23951ee7-b3aa-465c-8342-2f7de20b32ea\")>,\n",
       " <selenium.webdriver.remote.webelement.WebElement (session=\"b4922921c5e136920965e20e7a583a92\", element=\"623fb069-6956-45cf-a5ec-f28f3133663e\")>,\n",
       " <selenium.webdriver.remote.webelement.WebElement (session=\"b4922921c5e136920965e20e7a583a92\", element=\"87afac3d-ad32-41f7-a531-c027a851dbcc\")>,\n",
       " <selenium.webdriver.remote.webelement.WebElement (session=\"b4922921c5e136920965e20e7a583a92\", element=\"61afa7e7-47d9-4af6-86dc-5c22d9d2fd17\")>,\n",
       " <selenium.webdriver.remote.webelement.WebElement (session=\"b4922921c5e136920965e20e7a583a92\", element=\"d16824c4-ef71-4b13-9eb7-04b16a6d387e\")>,\n",
       " <selenium.webdriver.remote.webelement.WebElement (session=\"b4922921c5e136920965e20e7a583a92\", element=\"8251c8f4-7b64-41f1-8c11-d9b6ceeff30c\")>,\n",
       " <selenium.webdriver.remote.webelement.WebElement (session=\"b4922921c5e136920965e20e7a583a92\", element=\"0a6b8f33-818b-44cb-b37a-17a068eb7c53\")>,\n",
       " <selenium.webdriver.remote.webelement.WebElement (session=\"b4922921c5e136920965e20e7a583a92\", element=\"97943c90-abfc-408f-b723-493b6143d6aa\")>,\n",
       " <selenium.webdriver.remote.webelement.WebElement (session=\"b4922921c5e136920965e20e7a583a92\", element=\"c8f6a734-1af2-488e-b1f9-4c1823b18691\")>,\n",
       " <selenium.webdriver.remote.webelement.WebElement (session=\"b4922921c5e136920965e20e7a583a92\", element=\"415b6f6b-ebf3-430d-b5db-9bf85f495b26\")>,\n",
       " <selenium.webdriver.remote.webelement.WebElement (session=\"b4922921c5e136920965e20e7a583a92\", element=\"8cd3fc71-b9f1-41de-a502-21ae68d3c5c1\")>,\n",
       " <selenium.webdriver.remote.webelement.WebElement (session=\"b4922921c5e136920965e20e7a583a92\", element=\"773bce99-fac1-4f8f-b637-9b8138eb6d86\")>,\n",
       " <selenium.webdriver.remote.webelement.WebElement (session=\"b4922921c5e136920965e20e7a583a92\", element=\"a58e819d-04f5-4d98-9fc2-3ae57fd1b15f\")>,\n",
       " <selenium.webdriver.remote.webelement.WebElement (session=\"b4922921c5e136920965e20e7a583a92\", element=\"1f17c350-22c6-4a80-ab6a-620d9f013b64\")>,\n",
       " <selenium.webdriver.remote.webelement.WebElement (session=\"b4922921c5e136920965e20e7a583a92\", element=\"1eb0018d-8774-4ca1-8094-4db280056a52\")>]"
      ]
     },
     "execution_count": 34,
     "metadata": {},
     "output_type": "execute_result"
    }
   ],
   "source": [
    "cars_images=driver.find_elements_by_xpath(\"//div[@jsaction='IE7JUb:e5gl8b;dtRDof:s370ud;R3mad:ZCNXMe;v03O1c:cJhY7b;']\")\n",
    "cars_images[0:99]\n"
   ]
  },
  {
   "cell_type": "code",
   "execution_count": null,
   "metadata": {},
   "outputs": [],
   "source": []
  },
  {
   "cell_type": "code",
   "execution_count": 38,
   "metadata": {},
   "outputs": [],
   "source": [
    "for j in driver.find_elements_by_xpath(\"//input[@class='gLFyf gsfi']\"):\n",
    "    j.send_keys(\"Machine learning\")\n",
    "sr=driver.find_element_by_xpath(\"//button[@class='Tg7LZd']\")\n",
    "sr.click()\n"
   ]
  },
  {
   "cell_type": "code",
   "execution_count": 39,
   "metadata": {},
   "outputs": [
    {
     "data": {
      "text/plain": [
       "[<selenium.webdriver.remote.webelement.WebElement (session=\"49a821247e590496decf865a85aacd7a\", element=\"9af1291d-cc82-4dc8-ba85-0144e7db7cd4\")>,\n",
       " <selenium.webdriver.remote.webelement.WebElement (session=\"49a821247e590496decf865a85aacd7a\", element=\"47718a50-1b57-498f-aba2-246a6d5c8130\")>,\n",
       " <selenium.webdriver.remote.webelement.WebElement (session=\"49a821247e590496decf865a85aacd7a\", element=\"2c48e360-e150-4c0e-ac58-4c65e4123055\")>,\n",
       " <selenium.webdriver.remote.webelement.WebElement (session=\"49a821247e590496decf865a85aacd7a\", element=\"a774dc12-1c17-4a3a-a46d-3c49dca736af\")>,\n",
       " <selenium.webdriver.remote.webelement.WebElement (session=\"49a821247e590496decf865a85aacd7a\", element=\"29568bed-041a-4f54-ab7f-1ebbbc5cdbff\")>,\n",
       " <selenium.webdriver.remote.webelement.WebElement (session=\"49a821247e590496decf865a85aacd7a\", element=\"aa52de3e-7b00-4f09-8079-2a05c53746ec\")>,\n",
       " <selenium.webdriver.remote.webelement.WebElement (session=\"49a821247e590496decf865a85aacd7a\", element=\"f748398f-58b4-4f65-a18e-2b3781b9595e\")>,\n",
       " <selenium.webdriver.remote.webelement.WebElement (session=\"49a821247e590496decf865a85aacd7a\", element=\"27e00b5d-218e-4c8d-865a-b9231609bfab\")>,\n",
       " <selenium.webdriver.remote.webelement.WebElement (session=\"49a821247e590496decf865a85aacd7a\", element=\"24703335-0e49-4afa-a7c5-3b3f2dfa2e2d\")>,\n",
       " <selenium.webdriver.remote.webelement.WebElement (session=\"49a821247e590496decf865a85aacd7a\", element=\"023e1004-46e3-40fd-996c-5d12eda580eb\")>,\n",
       " <selenium.webdriver.remote.webelement.WebElement (session=\"49a821247e590496decf865a85aacd7a\", element=\"6ab6f5af-4066-4c05-8b8a-49b600288376\")>,\n",
       " <selenium.webdriver.remote.webelement.WebElement (session=\"49a821247e590496decf865a85aacd7a\", element=\"9db5db2b-573c-472c-9b85-bc7a36cf8abe\")>,\n",
       " <selenium.webdriver.remote.webelement.WebElement (session=\"49a821247e590496decf865a85aacd7a\", element=\"e072e4e7-ec73-4830-a8a9-2114b575a138\")>,\n",
       " <selenium.webdriver.remote.webelement.WebElement (session=\"49a821247e590496decf865a85aacd7a\", element=\"d3825646-6db4-495d-b7cd-fe9fdc57536b\")>,\n",
       " <selenium.webdriver.remote.webelement.WebElement (session=\"49a821247e590496decf865a85aacd7a\", element=\"9de9c3d7-770d-4295-945e-f49cc9e120a8\")>,\n",
       " <selenium.webdriver.remote.webelement.WebElement (session=\"49a821247e590496decf865a85aacd7a\", element=\"7f3b10ad-ba9d-41cd-a763-aa814c324095\")>,\n",
       " <selenium.webdriver.remote.webelement.WebElement (session=\"49a821247e590496decf865a85aacd7a\", element=\"dbf4703b-4ca6-4587-94d5-795b67087ac1\")>,\n",
       " <selenium.webdriver.remote.webelement.WebElement (session=\"49a821247e590496decf865a85aacd7a\", element=\"31c38bed-6c02-4d63-900e-9a5458a73144\")>,\n",
       " <selenium.webdriver.remote.webelement.WebElement (session=\"49a821247e590496decf865a85aacd7a\", element=\"0858c904-a2ef-4ec9-aac5-ffc534e67fb1\")>,\n",
       " <selenium.webdriver.remote.webelement.WebElement (session=\"49a821247e590496decf865a85aacd7a\", element=\"914c81c4-69da-4919-b1f7-935b081fc569\")>,\n",
       " <selenium.webdriver.remote.webelement.WebElement (session=\"49a821247e590496decf865a85aacd7a\", element=\"25b2073e-adbf-499d-9613-a93dd3651d0a\")>,\n",
       " <selenium.webdriver.remote.webelement.WebElement (session=\"49a821247e590496decf865a85aacd7a\", element=\"6c4d330e-edc4-405c-98ac-31e690ce95e4\")>,\n",
       " <selenium.webdriver.remote.webelement.WebElement (session=\"49a821247e590496decf865a85aacd7a\", element=\"a0d9c4ac-2c97-403d-aab7-a6f2ff0fd605\")>,\n",
       " <selenium.webdriver.remote.webelement.WebElement (session=\"49a821247e590496decf865a85aacd7a\", element=\"186f0adb-d99b-49a2-960d-54b2ecbf852e\")>,\n",
       " <selenium.webdriver.remote.webelement.WebElement (session=\"49a821247e590496decf865a85aacd7a\", element=\"a0ed6b52-88b6-459c-935f-8753cda868af\")>,\n",
       " <selenium.webdriver.remote.webelement.WebElement (session=\"49a821247e590496decf865a85aacd7a\", element=\"23c9ac71-e7dc-4a71-a5b1-6c62f3e714e6\")>,\n",
       " <selenium.webdriver.remote.webelement.WebElement (session=\"49a821247e590496decf865a85aacd7a\", element=\"13cc25bd-5732-4a09-b3f7-da2581948afb\")>,\n",
       " <selenium.webdriver.remote.webelement.WebElement (session=\"49a821247e590496decf865a85aacd7a\", element=\"892913fe-196c-4905-a4cc-de4e6e986aa1\")>,\n",
       " <selenium.webdriver.remote.webelement.WebElement (session=\"49a821247e590496decf865a85aacd7a\", element=\"f00fda7b-c291-4854-af2d-1bc8c105348d\")>,\n",
       " <selenium.webdriver.remote.webelement.WebElement (session=\"49a821247e590496decf865a85aacd7a\", element=\"c35c2534-34cf-49b3-a4d9-86e3daa12b1f\")>,\n",
       " <selenium.webdriver.remote.webelement.WebElement (session=\"49a821247e590496decf865a85aacd7a\", element=\"f209e26d-a8fd-4cf2-9990-583c3b8739b5\")>,\n",
       " <selenium.webdriver.remote.webelement.WebElement (session=\"49a821247e590496decf865a85aacd7a\", element=\"9e84edd6-e585-4de3-ae3b-bed9c728dca0\")>,\n",
       " <selenium.webdriver.remote.webelement.WebElement (session=\"49a821247e590496decf865a85aacd7a\", element=\"a3a8af1e-57c1-4994-ba5d-37fe9d14bbe3\")>,\n",
       " <selenium.webdriver.remote.webelement.WebElement (session=\"49a821247e590496decf865a85aacd7a\", element=\"9c526537-fa2c-47d9-8194-80d6816eb4ba\")>,\n",
       " <selenium.webdriver.remote.webelement.WebElement (session=\"49a821247e590496decf865a85aacd7a\", element=\"dc8103db-ed55-4c35-8dc6-0ef96c37f816\")>,\n",
       " <selenium.webdriver.remote.webelement.WebElement (session=\"49a821247e590496decf865a85aacd7a\", element=\"eb028750-695d-40b6-8c0d-a356880dfed8\")>,\n",
       " <selenium.webdriver.remote.webelement.WebElement (session=\"49a821247e590496decf865a85aacd7a\", element=\"4675d8f7-098c-44c8-a303-43c4df97a586\")>,\n",
       " <selenium.webdriver.remote.webelement.WebElement (session=\"49a821247e590496decf865a85aacd7a\", element=\"c7aa4a3f-2e4c-475c-bb57-4bfdb4e0b148\")>,\n",
       " <selenium.webdriver.remote.webelement.WebElement (session=\"49a821247e590496decf865a85aacd7a\", element=\"ad9250eb-4ba2-497f-acea-0d298bd2dd80\")>,\n",
       " <selenium.webdriver.remote.webelement.WebElement (session=\"49a821247e590496decf865a85aacd7a\", element=\"60bfb493-b736-4e12-a015-4318ad3eaf4f\")>,\n",
       " <selenium.webdriver.remote.webelement.WebElement (session=\"49a821247e590496decf865a85aacd7a\", element=\"ec751996-567b-47fe-934a-072395f35e0c\")>,\n",
       " <selenium.webdriver.remote.webelement.WebElement (session=\"49a821247e590496decf865a85aacd7a\", element=\"295770e6-40d0-4bd4-b8b2-4631a234af1e\")>,\n",
       " <selenium.webdriver.remote.webelement.WebElement (session=\"49a821247e590496decf865a85aacd7a\", element=\"27a26fa4-ce24-41a0-9678-7bf385bdef4a\")>,\n",
       " <selenium.webdriver.remote.webelement.WebElement (session=\"49a821247e590496decf865a85aacd7a\", element=\"b5614550-5f86-4769-8e5f-39ba56bcecc7\")>,\n",
       " <selenium.webdriver.remote.webelement.WebElement (session=\"49a821247e590496decf865a85aacd7a\", element=\"baefe239-ab2c-4a27-98c9-f48005a405e5\")>,\n",
       " <selenium.webdriver.remote.webelement.WebElement (session=\"49a821247e590496decf865a85aacd7a\", element=\"f3255e9b-13c9-43e5-bb99-0f4beb6fddb2\")>,\n",
       " <selenium.webdriver.remote.webelement.WebElement (session=\"49a821247e590496decf865a85aacd7a\", element=\"34e56c61-88de-4532-bfe8-a4223bf08385\")>,\n",
       " <selenium.webdriver.remote.webelement.WebElement (session=\"49a821247e590496decf865a85aacd7a\", element=\"be811129-1b14-4a5c-a37a-ccff274e5fdd\")>]"
      ]
     },
     "execution_count": 39,
     "metadata": {},
     "output_type": "execute_result"
    }
   ],
   "source": [
    "ml_images=driver.find_elements_by_xpath(\"//div[@jsaction='IE7JUb:e5gl8b;dtRDof:s370ud;R3mad:ZCNXMe;v03O1c:cJhY7b;']\")\n",
    "ml_images[0:99]\n"
   ]
  },
  {
   "cell_type": "code",
   "execution_count": null,
   "metadata": {},
   "outputs": [],
   "source": []
  }
 ],
 "metadata": {
  "kernelspec": {
   "display_name": "Python 3",
   "language": "python",
   "name": "python3"
  },
  "language_info": {
   "codemirror_mode": {
    "name": "ipython",
    "version": 3
   },
   "file_extension": ".py",
   "mimetype": "text/x-python",
   "name": "python",
   "nbconvert_exporter": "python",
   "pygments_lexer": "ipython3",
   "version": "3.7.6"
  }
 },
 "nbformat": 4,
 "nbformat_minor": 4
}
