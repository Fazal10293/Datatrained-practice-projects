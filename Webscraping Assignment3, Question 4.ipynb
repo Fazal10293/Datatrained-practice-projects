{
 "cells": [
  {
   "cell_type": "code",
   "execution_count": 88,
   "metadata": {},
   "outputs": [],
   "source": [
    "import selenium\n",
    "from selenium import webdriver\n"
   ]
  },
  {
   "cell_type": "code",
   "execution_count": 89,
   "metadata": {},
   "outputs": [],
   "source": [
    "driver=webdriver.Chrome(r\"C:\\Users\\Rubia Banu\\Desktop\\chromedriver.exe\")"
   ]
  },
  {
   "cell_type": "code",
   "execution_count": 90,
   "metadata": {},
   "outputs": [],
   "source": [
    "driver.get(\"https://www.flipkart.com/\")"
   ]
  },
  {
   "cell_type": "code",
   "execution_count": 91,
   "metadata": {},
   "outputs": [],
   "source": [
    "item=driver.find_element_by_xpath(\"//input[@class='_3704LK']\")\n",
    "item.send_keys(\"Pixel 4A mobile phone\")\n"
   ]
  },
  {
   "cell_type": "code",
   "execution_count": 92,
   "metadata": {},
   "outputs": [],
   "source": [
    "search_btn=driver.find_element_by_xpath(\"//button[@class='L0Z3Pu']\")\n",
    "search_btn.click()"
   ]
  },
  {
   "cell_type": "code",
   "execution_count": 93,
   "metadata": {},
   "outputs": [],
   "source": [
    "brand_name=[]\n",
    "smartphone_name=[]\n",
    "ratings=[]\n",
    "ram_rom=[]\n",
    "display=[]\n",
    "camera=[]\n",
    "battery=[]\n",
    "processor=[]\n",
    "warranty=[]"
   ]
  },
  {
   "cell_type": "code",
   "execution_count": 94,
   "metadata": {},
   "outputs": [
    {
     "data": {
      "text/plain": [
       "[<selenium.webdriver.remote.webelement.WebElement (session=\"94d92ea823e462ba93a943ad9c07e2ff\", element=\"77252dd6-f3fe-4761-85d1-75066710ab2c\")>,\n",
       " <selenium.webdriver.remote.webelement.WebElement (session=\"94d92ea823e462ba93a943ad9c07e2ff\", element=\"e9de4a52-983c-4829-848f-e3f018207d2d\")>,\n",
       " <selenium.webdriver.remote.webelement.WebElement (session=\"94d92ea823e462ba93a943ad9c07e2ff\", element=\"d551d041-3387-457f-be2c-8119abebeee8\")>,\n",
       " <selenium.webdriver.remote.webelement.WebElement (session=\"94d92ea823e462ba93a943ad9c07e2ff\", element=\"6e50449f-c4fc-47f3-8349-9c241af8943b\")>,\n",
       " <selenium.webdriver.remote.webelement.WebElement (session=\"94d92ea823e462ba93a943ad9c07e2ff\", element=\"1dcc8a1c-782b-4fae-8cac-5daabb60a1e1\")>,\n",
       " <selenium.webdriver.remote.webelement.WebElement (session=\"94d92ea823e462ba93a943ad9c07e2ff\", element=\"37ad149f-dfc0-4b20-aa28-fddd4c031fa4\")>,\n",
       " <selenium.webdriver.remote.webelement.WebElement (session=\"94d92ea823e462ba93a943ad9c07e2ff\", element=\"91748458-0157-418d-8bac-6c4a6e702e84\")>,\n",
       " <selenium.webdriver.remote.webelement.WebElement (session=\"94d92ea823e462ba93a943ad9c07e2ff\", element=\"9b42dbe1-0013-4e2d-92d1-7f220e06a04f\")>,\n",
       " <selenium.webdriver.remote.webelement.WebElement (session=\"94d92ea823e462ba93a943ad9c07e2ff\", element=\"ba573249-2826-48f0-bfb8-cbb6bf90d908\")>,\n",
       " <selenium.webdriver.remote.webelement.WebElement (session=\"94d92ea823e462ba93a943ad9c07e2ff\", element=\"95379b17-fcaf-45d7-a7da-43dd756f722b\")>,\n",
       " <selenium.webdriver.remote.webelement.WebElement (session=\"94d92ea823e462ba93a943ad9c07e2ff\", element=\"41f0acbf-ff27-4dad-9cbe-7e24ae1a3dae\")>,\n",
       " <selenium.webdriver.remote.webelement.WebElement (session=\"94d92ea823e462ba93a943ad9c07e2ff\", element=\"e1784cfb-69f1-4995-a81b-5fdf0c04fd31\")>,\n",
       " <selenium.webdriver.remote.webelement.WebElement (session=\"94d92ea823e462ba93a943ad9c07e2ff\", element=\"5733ef89-da56-4c86-a0a5-4f1b6f37ee0e\")>,\n",
       " <selenium.webdriver.remote.webelement.WebElement (session=\"94d92ea823e462ba93a943ad9c07e2ff\", element=\"e6940e85-449f-4811-a177-d2b2b0a307df\")>,\n",
       " <selenium.webdriver.remote.webelement.WebElement (session=\"94d92ea823e462ba93a943ad9c07e2ff\", element=\"263788bc-40c7-489d-908e-d8c5089ecb4d\")>,\n",
       " <selenium.webdriver.remote.webelement.WebElement (session=\"94d92ea823e462ba93a943ad9c07e2ff\", element=\"b07eacdb-f4b1-4951-bd2d-2614501a6a04\")>,\n",
       " <selenium.webdriver.remote.webelement.WebElement (session=\"94d92ea823e462ba93a943ad9c07e2ff\", element=\"a8e3073e-baf0-4343-87e2-c4a0e87ae589\")>,\n",
       " <selenium.webdriver.remote.webelement.WebElement (session=\"94d92ea823e462ba93a943ad9c07e2ff\", element=\"5d987cdc-0868-4c9d-abcf-2ffe2f5a15b3\")>,\n",
       " <selenium.webdriver.remote.webelement.WebElement (session=\"94d92ea823e462ba93a943ad9c07e2ff\", element=\"84e6446d-d67f-4511-890d-e41200259c8f\")>,\n",
       " <selenium.webdriver.remote.webelement.WebElement (session=\"94d92ea823e462ba93a943ad9c07e2ff\", element=\"112da059-fcbc-4efe-b484-d5b9969d2a9d\")>,\n",
       " <selenium.webdriver.remote.webelement.WebElement (session=\"94d92ea823e462ba93a943ad9c07e2ff\", element=\"8e75c805-41e4-4a43-abec-6e6a8e3e4baf\")>,\n",
       " <selenium.webdriver.remote.webelement.WebElement (session=\"94d92ea823e462ba93a943ad9c07e2ff\", element=\"8baad4cb-3a50-45cd-964e-060692baf2fd\")>,\n",
       " <selenium.webdriver.remote.webelement.WebElement (session=\"94d92ea823e462ba93a943ad9c07e2ff\", element=\"3a10fee7-10ee-4373-bf81-e005cbae9e5b\")>,\n",
       " <selenium.webdriver.remote.webelement.WebElement (session=\"94d92ea823e462ba93a943ad9c07e2ff\", element=\"e2ba1f3b-d15c-41ac-9a9c-eb98de80e326\")>]"
      ]
     },
     "execution_count": 94,
     "metadata": {},
     "output_type": "execute_result"
    }
   ],
   "source": [
    "title_phone=driver.find_elements_by_xpath(\"//div[@class='_4rR01T']\")\n",
    "title_phone[0:24]"
   ]
  },
  {
   "cell_type": "code",
   "execution_count": 95,
   "metadata": {},
   "outputs": [
    {
     "data": {
      "text/plain": [
       "['Google Pixel 4a (Just Black, 128 GB)',\n",
       " 'Google Pixel 3a (Clearly White, 64 GB)',\n",
       " 'REDMI Note 9 (Arctic White, 64 GB)',\n",
       " 'REDMI Note 9 (Shadow Black, 64 GB)',\n",
       " 'REDMI 9 Power (Blazing Blue, 64 GB)',\n",
       " 'REDMI Note 9 (Aqua Green, 64 GB)',\n",
       " 'REDMI 9 Power (Electric Green, 64 GB)',\n",
       " 'REDMI Note 9 (Pebble Grey, 64 GB)',\n",
       " 'Redmi 9 Prime (Matte Black, 64 GB)',\n",
       " 'REDMI 9 Power (Mighty Black, 64 GB)',\n",
       " 'REDMI 9 Power (Mighty Black, 128 GB)',\n",
       " 'Redmi 9 (Sky Blue, 64 GB)',\n",
       " 'Redmi 9 (Sporty Orange, 64 GB)',\n",
       " 'ViVO Y20G (Purist Blue, 128 GB)',\n",
       " 'Redmi 9 (Carbon Black, 64 GB)',\n",
       " 'REDMI Note 10 Pro (Dark Night, 128 GB)',\n",
       " 'REDMI 9 Power (Fiery Red, 64 GB)',\n",
       " 'Redmi 9A (SeaBlue, 32 GB)',\n",
       " 'Redmi 9A (Midnight Black, 32 GB)',\n",
       " 'REDMI 9 Power (Blazing Blue, 128 GB)',\n",
       " 'Redmi 9A (Nature Green, 32 GB)',\n",
       " 'Itel VISION1 (GRADATION GREEN, 32 GB)',\n",
       " 'REDMI Note 9 (Aqua Green, 128 GB)',\n",
       " 'SAMSUNG M01 core (Black, 16 GB)']"
      ]
     },
     "execution_count": 95,
     "metadata": {},
     "output_type": "execute_result"
    }
   ],
   "source": [
    "for i in title_phone:\n",
    "    title=i.text\n",
    "    smartphone_name.append(title)\n",
    "smartphone_name[0:24]"
   ]
  },
  {
   "cell_type": "code",
   "execution_count": 96,
   "metadata": {},
   "outputs": [
    {
     "data": {
      "text/plain": [
       "[<selenium.webdriver.remote.webelement.WebElement (session=\"94d92ea823e462ba93a943ad9c07e2ff\", element=\"8772e27b-f78e-4d23-b674-73ad705e9e4c\")>,\n",
       " <selenium.webdriver.remote.webelement.WebElement (session=\"94d92ea823e462ba93a943ad9c07e2ff\", element=\"a3e4d87f-931b-4d52-99b6-cd769067a56b\")>,\n",
       " <selenium.webdriver.remote.webelement.WebElement (session=\"94d92ea823e462ba93a943ad9c07e2ff\", element=\"3e37af62-d287-4994-a32c-79cc56aaa688\")>,\n",
       " <selenium.webdriver.remote.webelement.WebElement (session=\"94d92ea823e462ba93a943ad9c07e2ff\", element=\"23736f55-24a8-4350-9cbe-d118e61e49b8\")>,\n",
       " <selenium.webdriver.remote.webelement.WebElement (session=\"94d92ea823e462ba93a943ad9c07e2ff\", element=\"cb8bd55b-4585-4515-94fd-428f349dacf2\")>,\n",
       " <selenium.webdriver.remote.webelement.WebElement (session=\"94d92ea823e462ba93a943ad9c07e2ff\", element=\"65809aa0-66f9-473a-b5b0-aea2cab29b33\")>,\n",
       " <selenium.webdriver.remote.webelement.WebElement (session=\"94d92ea823e462ba93a943ad9c07e2ff\", element=\"2c2d6a0b-b708-44ee-ab8b-4cffa3ca3416\")>,\n",
       " <selenium.webdriver.remote.webelement.WebElement (session=\"94d92ea823e462ba93a943ad9c07e2ff\", element=\"ad1c1394-9247-466a-a94f-5b6add0abf09\")>,\n",
       " <selenium.webdriver.remote.webelement.WebElement (session=\"94d92ea823e462ba93a943ad9c07e2ff\", element=\"1dff91fd-4621-41f3-b0a0-6a10adc6f538\")>,\n",
       " <selenium.webdriver.remote.webelement.WebElement (session=\"94d92ea823e462ba93a943ad9c07e2ff\", element=\"3c2fb2db-0974-4633-9ccb-c0f65026dc20\")>,\n",
       " <selenium.webdriver.remote.webelement.WebElement (session=\"94d92ea823e462ba93a943ad9c07e2ff\", element=\"3a01a236-954e-4ecb-9426-9d6bb5d93315\")>,\n",
       " <selenium.webdriver.remote.webelement.WebElement (session=\"94d92ea823e462ba93a943ad9c07e2ff\", element=\"6973cf75-340a-45c9-aa6d-dc3014fa75cc\")>,\n",
       " <selenium.webdriver.remote.webelement.WebElement (session=\"94d92ea823e462ba93a943ad9c07e2ff\", element=\"bb82847d-8c76-416b-9638-eb985be26526\")>,\n",
       " <selenium.webdriver.remote.webelement.WebElement (session=\"94d92ea823e462ba93a943ad9c07e2ff\", element=\"578e0d0a-6c81-40b8-9486-740dc4b5d135\")>,\n",
       " <selenium.webdriver.remote.webelement.WebElement (session=\"94d92ea823e462ba93a943ad9c07e2ff\", element=\"77842b35-74fd-444b-9f8f-5b6f7aae2986\")>,\n",
       " <selenium.webdriver.remote.webelement.WebElement (session=\"94d92ea823e462ba93a943ad9c07e2ff\", element=\"f6e38452-5afb-4ef3-8b47-ccc444c589b7\")>,\n",
       " <selenium.webdriver.remote.webelement.WebElement (session=\"94d92ea823e462ba93a943ad9c07e2ff\", element=\"7f7d215b-aa78-4c7b-8ce7-f20cdb4eb8d8\")>,\n",
       " <selenium.webdriver.remote.webelement.WebElement (session=\"94d92ea823e462ba93a943ad9c07e2ff\", element=\"6597a314-da2e-4b93-b6b3-5eaa478a3ee9\")>,\n",
       " <selenium.webdriver.remote.webelement.WebElement (session=\"94d92ea823e462ba93a943ad9c07e2ff\", element=\"522e30ba-0a40-42a7-9bac-18a34c225c67\")>,\n",
       " <selenium.webdriver.remote.webelement.WebElement (session=\"94d92ea823e462ba93a943ad9c07e2ff\", element=\"1d5b08e0-ea3a-4f6d-b28f-1b48b939b5c4\")>,\n",
       " <selenium.webdriver.remote.webelement.WebElement (session=\"94d92ea823e462ba93a943ad9c07e2ff\", element=\"2dc2845e-44d2-4331-af33-3043e7202527\")>,\n",
       " <selenium.webdriver.remote.webelement.WebElement (session=\"94d92ea823e462ba93a943ad9c07e2ff\", element=\"9da594d5-945c-4265-99ac-945a02828ce0\")>,\n",
       " <selenium.webdriver.remote.webelement.WebElement (session=\"94d92ea823e462ba93a943ad9c07e2ff\", element=\"e541371e-a391-473a-9137-db1ecadc5c63\")>,\n",
       " <selenium.webdriver.remote.webelement.WebElement (session=\"94d92ea823e462ba93a943ad9c07e2ff\", element=\"726c75fa-e8c5-4e0b-a18e-4a36a416e96d\")>]"
      ]
     },
     "execution_count": 96,
     "metadata": {},
     "output_type": "execute_result"
    }
   ],
   "source": [
    "rating=driver.find_elements_by_xpath(\"//div[@class='_3LWZlK']\")\n",
    "rating[0:24]"
   ]
  },
  {
   "cell_type": "code",
   "execution_count": 97,
   "metadata": {},
   "outputs": [
    {
     "data": {
      "text/plain": [
       "['4.6',\n",
       " '4.5',\n",
       " '4.3',\n",
       " '4.3',\n",
       " '4.3',\n",
       " '4.3',\n",
       " '4.3',\n",
       " '4.3',\n",
       " '4.4',\n",
       " '4.3',\n",
       " '4.2',\n",
       " '4.2',\n",
       " '4.2',\n",
       " '4.3',\n",
       " '4.2',\n",
       " '4.3',\n",
       " '4.3',\n",
       " '4.3',\n",
       " '4.3',\n",
       " '4.3',\n",
       " '4.3',\n",
       " '4.1',\n",
       " '4.3',\n",
       " '4']"
      ]
     },
     "execution_count": 97,
     "metadata": {},
     "output_type": "execute_result"
    }
   ],
   "source": [
    "for i in rating:\n",
    "    title=i.text\n",
    "    ratings.append(title)\n",
    "ratings[0:24]"
   ]
  },
  {
   "cell_type": "code",
   "execution_count": 109,
   "metadata": {},
   "outputs": [
    {
     "data": {
      "text/plain": [
       "[<selenium.webdriver.remote.webelement.WebElement (session=\"94d92ea823e462ba93a943ad9c07e2ff\", element=\"c30d314f-b81a-4fec-85a2-22153e842286\")>,\n",
       " <selenium.webdriver.remote.webelement.WebElement (session=\"94d92ea823e462ba93a943ad9c07e2ff\", element=\"7234e571-d967-46c3-b848-9fd1e0c88a45\")>,\n",
       " <selenium.webdriver.remote.webelement.WebElement (session=\"94d92ea823e462ba93a943ad9c07e2ff\", element=\"96301861-907a-4d00-a6aa-fed4075aea32\")>,\n",
       " <selenium.webdriver.remote.webelement.WebElement (session=\"94d92ea823e462ba93a943ad9c07e2ff\", element=\"2d9c40f2-b070-4d44-a865-7f5e2d449392\")>,\n",
       " <selenium.webdriver.remote.webelement.WebElement (session=\"94d92ea823e462ba93a943ad9c07e2ff\", element=\"98f4476b-11eb-4323-be20-b50c1374cf3b\")>,\n",
       " <selenium.webdriver.remote.webelement.WebElement (session=\"94d92ea823e462ba93a943ad9c07e2ff\", element=\"307c9ed0-068b-4da3-abe8-4f030e0f701f\")>,\n",
       " <selenium.webdriver.remote.webelement.WebElement (session=\"94d92ea823e462ba93a943ad9c07e2ff\", element=\"8c329dbe-b0ad-457f-a332-ae51cf89cd49\")>,\n",
       " <selenium.webdriver.remote.webelement.WebElement (session=\"94d92ea823e462ba93a943ad9c07e2ff\", element=\"5569aefe-c349-4913-8a6e-f067bcb9e61e\")>,\n",
       " <selenium.webdriver.remote.webelement.WebElement (session=\"94d92ea823e462ba93a943ad9c07e2ff\", element=\"c07ab192-7579-4cd0-a7ea-23849500e694\")>,\n",
       " <selenium.webdriver.remote.webelement.WebElement (session=\"94d92ea823e462ba93a943ad9c07e2ff\", element=\"a41023b8-1a99-4d98-a508-768e5542a18a\")>,\n",
       " <selenium.webdriver.remote.webelement.WebElement (session=\"94d92ea823e462ba93a943ad9c07e2ff\", element=\"3a34552c-b9e9-488b-9f03-3dd8c5804917\")>,\n",
       " <selenium.webdriver.remote.webelement.WebElement (session=\"94d92ea823e462ba93a943ad9c07e2ff\", element=\"87bc0856-3a66-440e-9ac2-c18ee86255d7\")>,\n",
       " <selenium.webdriver.remote.webelement.WebElement (session=\"94d92ea823e462ba93a943ad9c07e2ff\", element=\"1b140333-35a9-4be6-bfa9-945ca16df22e\")>,\n",
       " <selenium.webdriver.remote.webelement.WebElement (session=\"94d92ea823e462ba93a943ad9c07e2ff\", element=\"02cc76b3-ea40-4195-86ba-7d4266ce1626\")>,\n",
       " <selenium.webdriver.remote.webelement.WebElement (session=\"94d92ea823e462ba93a943ad9c07e2ff\", element=\"179869ce-53cb-435f-b5e8-0fdf37a66baa\")>,\n",
       " <selenium.webdriver.remote.webelement.WebElement (session=\"94d92ea823e462ba93a943ad9c07e2ff\", element=\"a0569249-3ac5-4142-921c-da36c77033ef\")>,\n",
       " <selenium.webdriver.remote.webelement.WebElement (session=\"94d92ea823e462ba93a943ad9c07e2ff\", element=\"fb3913c8-59bf-4ae4-94dc-d8195e5c5365\")>,\n",
       " <selenium.webdriver.remote.webelement.WebElement (session=\"94d92ea823e462ba93a943ad9c07e2ff\", element=\"8bad0a33-ca44-44d4-93df-9251d6920376\")>,\n",
       " <selenium.webdriver.remote.webelement.WebElement (session=\"94d92ea823e462ba93a943ad9c07e2ff\", element=\"662a1f97-231e-4d59-ab57-e3ad114474a0\")>,\n",
       " <selenium.webdriver.remote.webelement.WebElement (session=\"94d92ea823e462ba93a943ad9c07e2ff\", element=\"b3f657d5-e3ec-4cdd-9224-a6343259721e\")>,\n",
       " <selenium.webdriver.remote.webelement.WebElement (session=\"94d92ea823e462ba93a943ad9c07e2ff\", element=\"f3998d56-4b08-46aa-a30f-87833fc8f3f4\")>,\n",
       " <selenium.webdriver.remote.webelement.WebElement (session=\"94d92ea823e462ba93a943ad9c07e2ff\", element=\"3de51f11-8aae-47c8-a6ae-3b2658be095b\")>,\n",
       " <selenium.webdriver.remote.webelement.WebElement (session=\"94d92ea823e462ba93a943ad9c07e2ff\", element=\"ecf3c46e-2fba-4b1b-81b3-44e16e08358f\")>,\n",
       " <selenium.webdriver.remote.webelement.WebElement (session=\"94d92ea823e462ba93a943ad9c07e2ff\", element=\"ccc5ef94-0caf-4835-8946-79b72a5d7362\")>]"
      ]
     },
     "execution_count": 109,
     "metadata": {},
     "output_type": "execute_result"
    }
   ],
   "source": [
    "ram=driver.find_elements_by_xpath(\"//li[@class='rgWa7D']\")\n",
    "ram[0:24]"
   ]
  },
  {
   "cell_type": "code",
   "execution_count": 111,
   "metadata": {},
   "outputs": [
    {
     "data": {
      "text/plain": [
       "['6 GB RAM | 128 GB ROM',\n",
       " '14.76 cm (5.81 inch) Full HD+ Display',\n",
       " '12.2MP Rear Camera | 8MP Front Camera',\n",
       " '3140 mAh Battery',\n",
       " 'Qualcomm Snapdragon 730G Processor',\n",
       " 'OLED Display',\n",
       " '1 Year Warranty',\n",
       " '4 GB RAM | 64 GB ROM',\n",
       " '14.22 cm (5.6 inch) Full HD+ Display',\n",
       " '12.2MP Rear Camera | 8MP Front Camera',\n",
       " '3000 mAh Battery',\n",
       " 'Qualcomm Snapdragon 670 Processor',\n",
       " 'eSIM Compatible',\n",
       " 'Brand Warranty of 1 Year Available for Mobile',\n",
       " '4 GB RAM | 64 GB ROM | Expandable Upto 512 GB',\n",
       " '16.59 cm (6.53 inch) Full HD+ Display',\n",
       " '48MP Rear Camera',\n",
       " '5020 mAh Battery',\n",
       " 'MediaTek Helio G85 Processor',\n",
       " '1 year manufacturer warranty for device and 6 months manufacturer warranty for in-box accessories including batteries from the date of purchase',\n",
       " '4 GB RAM | 64 GB ROM | Expandable Upto 512 GB',\n",
       " '16.59 cm (6.53 inch) Full HD+ Display',\n",
       " '48MP Rear Camera',\n",
       " '5020 mAh Battery']"
      ]
     },
     "execution_count": 111,
     "metadata": {},
     "output_type": "execute_result"
    }
   ],
   "source": [
    "for i in ram:\n",
    "    title=i.text\n",
    "    ram_rom.append(title)\n",
    "ram_rom[0:24]"
   ]
  },
  {
   "cell_type": "markdown",
   "metadata": {},
   "source": [
    "# Tried a lot but didnt get single features in a list"
   ]
  },
  {
   "cell_type": "code",
   "execution_count": 98,
   "metadata": {},
   "outputs": [
    {
     "data": {
      "text/plain": [
       "['₹31,999',\n",
       " '₹39,999',\n",
       " '₹10,999',\n",
       " '₹10,999',\n",
       " '₹10,499',\n",
       " '₹10,999',\n",
       " '₹10,499',\n",
       " '₹10,999',\n",
       " '₹9,999',\n",
       " '₹10,499',\n",
       " '₹12,999',\n",
       " '₹9,114',\n",
       " '₹9,168',\n",
       " '₹14,990',\n",
       " '₹9,015',\n",
       " '₹21,990',\n",
       " '₹10,499',\n",
       " '₹7,426',\n",
       " '₹7,374',\n",
       " '₹11,999',\n",
       " '₹7,276',\n",
       " '₹6,699',\n",
       " '₹13,999',\n",
       " '₹5,470']"
      ]
     },
     "execution_count": 98,
     "metadata": {},
     "output_type": "execute_result"
    }
   ],
   "source": [
    "prices=[]\n",
    "price=driver.find_elements_by_xpath(\"//div[@class='_30jeq3 _1_WHN1']\")\n",
    "for i in price:\n",
    "    title=i.text\n",
    "    prices.append(title)\n",
    "prices[0:24]\n"
   ]
  },
  {
   "cell_type": "code",
   "execution_count": 106,
   "metadata": {},
   "outputs": [
    {
     "data": {
      "text/plain": [
       "['https://rukminim1.flixcart.com/image/312/312/kflftzk0/mobile/h/q/u/google-pixel-4a-ga02099-in-original-imafwyzmnfxzmv5q.jpeg?q=70',\n",
       " 'https://rukminim1.flixcart.com/image/312/312/k2jbyq80pkrrdj/mobile-refurbished/s/g/g/pixel-3a-64-c-g020f-google-4-original-imafga3eychjzwtz.jpeg?q=70',\n",
       " 'https://rukminim1.flixcart.com/image/312/312/kd69z0w0/mobile/s/h/p/mi-redmi-note-9-b086982zkf-original-imafu4qfyyyrg8er.jpeg?q=70',\n",
       " 'https://rukminim1.flixcart.com/image/312/312/khglj0w0/mobile/m/t/7/redmi-note-9-m2003j15si-mi-original-imafxgzhx4prwpgq.jpeg?q=70',\n",
       " 'https://rukminim1.flixcart.com/image/312/312/kkh6zrk0/mobile/o/o/c/redmi-9-power-mzb084xin-mzb084zin-mi-original-imafztfv3cywtzvz.jpeg?q=70',\n",
       " 'https://rukminim1.flixcart.com/image/312/312/kd69z0w0/mobile/4/z/u/mi-redmi-note-9-b086982zkf-original-imafu4pyhhpwuzaw.jpeg?q=70',\n",
       " 'https://rukminim1.flixcart.com/image/312/312/kj0bp8w0-0/mobile/p/n/c/9-power-mobhqab5-redmi-original-imafyz7aqsrggzgh.jpeg?q=70',\n",
       " 'https://rukminim1.flixcart.com/image/312/312/kd69z0w0/mobile/a/n/g/mi-redmi-note-9-b086982zkf-original-imafu4qf8gfcutde.jpeg?q=70',\n",
       " 'https://rukminim1.flixcart.com/image/312/312/ke0a7ww0/mobile/u/v/h/mi-redmi-9-prime-m2004j191-original-imafushhnazgtpzr.jpeg?q=70',\n",
       " 'https://rukminim1.flixcart.com/image/312/312/kj0bp8w0-0/mobile/d/e/1/9-power-mobhqab1-redmi-original-imafyz93hghvjkmu.jpeg?q=70',\n",
       " 'https://rukminim1.flixcart.com/image/312/312/klwmufk0/mobile/z/4/z/9-power-b089mtr9jw-m2010j19si-redmi-original-imagyx9mtwfgrmxm.jpeg?q=70',\n",
       " 'https://rukminim1.flixcart.com/image/312/312/kehfi4w0/mobile/g/9/h/mi-redmi-9-lpddr4x-original-imafv5kypkgfqupf.jpeg?q=70',\n",
       " 'https://rukminim1.flixcart.com/image/312/312/kehfi4w0/mobile/y/a/d/mi-redmi-9-lpddr4x-original-imafv5kyeqsgxgzz.jpeg?q=70',\n",
       " 'https://rukminim1.flixcart.com/image/312/312/kkprmvk0/mobile/e/n/m/y20g-v2037-vivo-original-imagyyfpcxezbpq3.jpeg?q=70',\n",
       " 'https://rukminim1.flixcart.com/image/312/312/kex5ci80/mobile/x/w/r/mi-redmi-9-m2006c3mii-original-imafvhqqcyp9z5f4.jpeg?q=70',\n",
       " 'https://rukminim1.flixcart.com/image/312/312/kmgn0cw0/mobile/t/f/3/note-10-pro-1151-redmi-original-imagfdfxxuhgtwth.jpeg?q=70',\n",
       " 'https://rukminim1.flixcart.com/image/312/312/kj0bp8w0-0/mobile/t/o/v/9-power-mobhqab8-redmi-original-imafyz7ca8hbsgh3.jpeg?q=70',\n",
       " 'https://rukminim1.flixcart.com/image/312/312/kesv0y80/mobile/w/g/r/mi-redmi-9a-b08696xb4b-original-imafve7pjpemhwk5.jpeg?q=70',\n",
       " 'https://rukminim1.flixcart.com/image/312/312/kesv0y80/mobile/b/h/z/mi-redmi-9a-b08696xb4b-original-imafve7pnhwakaha.jpeg?q=70',\n",
       " 'https://rukminim1.flixcart.com/image/312/312/kkh6zrk0/mobile/o/o/c/redmi-9-power-mzb084xin-mzb084zin-mi-original-imafztfv3cywtzvz.jpeg?q=70',\n",
       " 'https://rukminim1.flixcart.com/image/312/312/kesv0y80/mobile/k/h/9/mi-redmi-9a-b08696xb4b-original-imafve7pte7e4zmp.jpeg?q=70',\n",
       " 'https://rukminim1.flixcart.com/image/312/312/kelptow0/mobile/q/n/4/itel-vision1-l6005-original-imafv9yzjzky5hjf.jpeg?q=70',\n",
       " 'https://rukminim1.flixcart.com/image/312/312/kd69z0w0/mobile/4/z/u/mi-redmi-note-9-b086982zkf-original-imafu4pyhhpwuzaw.jpeg?q=70',\n",
       " 'https://rukminim1.flixcart.com/image/312/312/kddf6a80/mobile/5/u/s/samsung-m01-core-b089mv96rw-original-imafuaghuqyfbzfz.jpeg?q=70']"
      ]
     },
     "execution_count": 106,
     "metadata": {},
     "output_type": "execute_result"
    }
   ],
   "source": [
    "product_url=[]\n",
    "prdt=driver.find_elements_by_xpath(\"//div[@class='CXW8mj']/img\")\n",
    "for i in prdt:\n",
    "    title=i.get_attribute('src')\n",
    "    product_url.append(title)\n",
    "product_url[0:24]"
   ]
  },
  {
   "cell_type": "code",
   "execution_count": 107,
   "metadata": {},
   "outputs": [],
   "source": [
    "import pandas as pd\n",
    "phones_details=pd.DataFrame({})"
   ]
  },
  {
   "cell_type": "code",
   "execution_count": 108,
   "metadata": {},
   "outputs": [
    {
     "name": "stdout",
     "output_type": "stream",
     "text": [
      "24 29 24 29\n"
     ]
    }
   ],
   "source": [
    "print(len(smartphone_name),len(ratings),len(prices),len(product_url))"
   ]
  },
  {
   "cell_type": "markdown",
   "metadata": {},
   "source": [
    "# even though i applied correct range the len is showing little extra, suggest me how to overcome this"
   ]
  },
  {
   "cell_type": "code",
   "execution_count": null,
   "metadata": {},
   "outputs": [],
   "source": []
  }
 ],
 "metadata": {
  "kernelspec": {
   "display_name": "Python 3",
   "language": "python",
   "name": "python3"
  },
  "language_info": {
   "codemirror_mode": {
    "name": "ipython",
    "version": 3
   },
   "file_extension": ".py",
   "mimetype": "text/x-python",
   "name": "python",
   "nbconvert_exporter": "python",
   "pygments_lexer": "ipython3",
   "version": "3.7.6"
  }
 },
 "nbformat": 4,
 "nbformat_minor": 4
}
